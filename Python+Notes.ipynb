{
 "cells": [
  {
   "cell_type": "markdown",
   "metadata": {},
   "source": [
    "# Variables"
   ]
  },
  {
   "cell_type": "code",
   "execution_count": 1,
   "metadata": {},
   "outputs": [
    {
     "name": "stdout",
     "output_type": "stream",
     "text": [
      "10\n0.8333333333333334\n0\n"
     ]
    }
   ],
   "source": [
    "a = 10\n",
    "b=12\n",
    "\n",
    "# There is no need to declare datatype of variable.\n",
    "\n",
    "# Prints a\n",
    "print(a)\n",
    "\n",
    "# Get datatype of a\n",
    "type(a)\n",
    "\n",
    "# prints quotient of a divided by b\n",
    "print(a/b)\n",
    "\n",
    "# Prints floor value of quotient\n",
    "print(a//b)\n",
    "\n",
    "# It is allowed to assign the same value to multiple variables in one line.\n",
    "a = b = 2\n"
   ]
  },
  {
   "cell_type": "markdown",
   "metadata": {},
   "source": [
    "<font color=black size=5>Strings and Input</font>\n"
   ]
  },
  {
   "cell_type": "code",
   "execution_count": 1,
   "metadata": {},
   "outputs": [
    {
     "name": "stdout",
     "output_type": "stream",
     "text": [
      "12\ne\nd\nHelloBlah\nHello Blah\nTrue\nHELLO WORLD!\nWonder\n"
     ]
    }
   ],
   "source": [
    "# Strings can be declared just like regular variables.\n",
    "myString = \"Hello World!\"\n",
    "\n",
    "# Print length of string\n",
    "print(len(myString))\n",
    "\n",
    "# Access string elements by array-like indexing\n",
    "print(myString[1])\n",
    "\n",
    "# Negative indices to access string elements\n",
    "print(myString[-2])\n",
    "\n",
    "# Concatenating two strings\n",
    "string1 = \"Hello\"\n",
    "string2 = \"Blah\"\n",
    "\n",
    "print(string1 + string2)\n",
    "print(string1 + \" \" + string2)\n",
    "\n",
    "\n",
    "# Check if a character is present within a string\n",
    "print('e' in myString)\n",
    "\n",
    "# Convert string to upper-case\n",
    "myStringUpper = myString.upper()\n",
    "print(myStringUpper)\n",
    "\n",
    "# Replace an element of a string\n",
    "notMyString = \"Wonger\"\n",
    "isMyString = notMyString.replace('g','d')\n",
    "print(isMyString)\n",
    "\n"
   ]
  },
  {
   "cell_type": "markdown",
   "metadata": {},
   "source": [
    "<font color=black size=5>String Slicing</font>\n"
   ]
  },
  {
   "cell_type": "code",
   "execution_count": 3,
   "metadata": {},
   "outputs": [
    {
     "name": "stdout",
     "output_type": "stream",
     "text": [
      "Hel\n",
      "rld\n"
     ]
    }
   ],
   "source": [
    "name = \"Helloworld\"\n",
    "\n",
    "# prints first three elements\n",
    "print(name[0:3])\n",
    "\n",
    "# Print last three elements of string\n",
    "print(name[-3:])\n"
   ]
  },
  {
   "cell_type": "markdown",
   "metadata": {},
   "source": [
    "<font color=black size=5>Tuples</font>\n"
   ]
  },
  {
   "cell_type": "code",
   "execution_count": 4,
   "metadata": {},
   "outputs": [
    {
     "name": "stdout",
     "output_type": "stream",
     "text": [
      "2\n",
      "(2, 3)\n",
      "Hello\n",
      "(1, 2, 3, 5, 6, 7)\n",
      "True\n",
      "False\n"
     ]
    }
   ],
   "source": [
    "# Initialize a tuple\n",
    "myTuple = (1,2,3)\n",
    "\n",
    "# Print second element of tuple\n",
    "print(myTuple[1])\n",
    "\n",
    "# Print last two elements of tuple\n",
    "print(myTuple[-2:])\n",
    "\n",
    "# Mixed tuples: tuples can contain data of various types\n",
    "mixTuple = ('Hello',2,3.4)\n",
    "print(mixTuple[0])\n",
    "\n",
    "# Adding two tuples: this concatenates two tuples together\n",
    "tuple1 = (1,2,3)\n",
    "tuple2 = (5,6,7)\n",
    "print(tuple1 + tuple2)\n",
    "\n",
    "# Query a tuple\n",
    "print(2 in myTuple)\n",
    "print('x' in mixTuple)"
   ]
  },
  {
   "cell_type": "markdown",
   "metadata": {},
   "source": [
    "# Lists "
   ]
  },
  {
   "cell_type": "code",
   "execution_count": 5,
   "metadata": {
    "collapsed": true
   },
   "outputs": [],
   "source": [
    "# Declaring a list\n",
    "\n",
    "myList = [1,'hello!',3.4563]\n",
    "\n",
    "myList1 = list()\n"
   ]
  },
  {
   "cell_type": "code",
   "execution_count": 6,
   "metadata": {},
   "outputs": [
    {
     "name": "stdout",
     "output_type": "stream",
     "text": [
      "hello!\n",
      "3.4563\n",
      "[1, 'hello!']\n"
     ]
    }
   ],
   "source": [
    "# Accessing list elements\n",
    "\n",
    "print(myList[1])\n",
    "print(myList[-1])\n",
    "print(myList[0:2])\n"
   ]
  },
  {
   "cell_type": "code",
   "execution_count": 7,
   "metadata": {},
   "outputs": [
    {
     "name": "stdout",
     "output_type": "stream",
     "text": [
      "[1, 'hello', 2, 'world', 3]\n"
     ]
    }
   ],
   "source": [
    "# Adding elements to list\n",
    "myList = [1,2,'world']\n",
    "emptyList = list()\n",
    "\n",
    "myList.append(3)\n",
    "\n",
    "myList.insert(1,'hello')\n",
    "\n",
    "emptyList.extend(myList)\n",
    "print(emptyList)\n",
    "\n"
   ]
  },
  {
   "cell_type": "code",
   "execution_count": 8,
   "metadata": {},
   "outputs": [
    {
     "name": "stdout",
     "output_type": "stream",
     "text": [
      "[2, 'world', 5]\n"
     ]
    }
   ],
   "source": [
    "# Deleting elements from list\n",
    "\n",
    "myList.pop();\n",
    "\n",
    "myList.append(4);\n",
    "myList.append(5);\n",
    "\n",
    "myList.pop(0);\n",
    "\n",
    "myList.remove(4);\n",
    "\n",
    "del myList[0:1]\n",
    "\n",
    "print(myList)"
   ]
  },
  {
   "cell_type": "code",
   "execution_count": 9,
   "metadata": {},
   "outputs": [
    {
     "name": "stdout",
     "output_type": "stream",
     "text": [
      "[1, 2, 3, 4]\n"
     ]
    }
   ],
   "source": [
    "#myList = myList + 2    # Wrong!\n",
    "myList = myList + [1,2] # Correct\n",
    "\n",
    "newList = [3,2,1,4]\n",
    "newList.sort()\n",
    "print(newList)\n"
   ]
  },
  {
   "cell_type": "markdown",
   "metadata": {},
   "source": [
    "# Dictionary"
   ]
  },
  {
   "cell_type": "code",
   "execution_count": 10,
   "metadata": {},
   "outputs": [
    {
     "name": "stdout",
     "output_type": "stream",
     "text": [
      "{2: 6, 'hello': 4}\n"
     ]
    }
   ],
   "source": [
    "# Initializing a dictionary\n",
    "\n",
    "myDict = {}\n",
    "\n",
    "myDict[2]=6\n",
    "myDict[\"hello\"]=4\n",
    "\n",
    "print(myDict)\n"
   ]
  },
  {
   "cell_type": "code",
   "execution_count": 11,
   "metadata": {},
   "outputs": [
    {
     "name": "stdout",
     "output_type": "stream",
     "text": [
      "2\n",
      "hello\n",
      "{2: 6}\n"
     ]
    },
    {
     "data": {
      "text/plain": [
       "[2]"
      ]
     },
     "execution_count": 11,
     "metadata": {},
     "output_type": "execute_result"
    }
   ],
   "source": [
    "# iterating over a dictionary\n",
    "for i in myDict:\n",
    "    print(i)\n",
    "\n",
    "# deleting elements from a dictionary\n",
    "del myDict['hello']\n",
    "print(myDict)\n",
    "\n",
    "myDict.keys()"
   ]
  },
  {
   "cell_type": "markdown",
   "metadata": {},
   "source": [
    "# Conditionals"
   ]
  },
  {
   "cell_type": "code",
   "execution_count": 12,
   "metadata": {},
   "outputs": [
    {
     "name": "stdout",
     "output_type": "stream",
     "text": [
      "200\n"
     ]
    }
   ],
   "source": [
    "a = 100\n",
    "b = 200\n",
    "\n",
    "if a > b:    # If statement\n",
    "    print(a)\n",
    "elif a < b:    # Else if statement\n",
    "    print(b)\n",
    "else:        # Else statement\n",
    "    print(a+b)"
   ]
  },
  {
   "cell_type": "markdown",
   "metadata": {},
   "source": [
    "# While Loop"
   ]
  },
  {
   "cell_type": "code",
   "execution_count": 13,
   "metadata": {},
   "outputs": [
    {
     "name": "stdout",
     "output_type": "stream",
     "text": [
      "1\n",
      "3\n",
      "5\n",
      "7\n",
      "9\n"
     ]
    }
   ],
   "source": [
    "n = 9\n",
    "i = 0\n",
    "\n",
    "# While loop\n",
    "while i<n:\n",
    "    print(i+1)\n",
    "    i = i+2\n"
   ]
  },
  {
   "cell_type": "markdown",
   "metadata": {},
   "source": [
    "# For Loop"
   ]
  },
  {
   "cell_type": "code",
   "execution_count": 19,
   "metadata": {},
   "outputs": [
    {
     "name": "stdout",
     "output_type": "stream",
     "text": [
      "1\n6\n11\n1\n3\n4\n5\n6\n"
     ]
    }
   ],
   "source": [
    "# For loop\n",
    "for i in range(1,15,5):\n",
    "    print(i)\n",
    "\n",
    "# Loop control statements\n",
    "for i in range(1,20):\n",
    "    if i == 2:\n",
    "        continue\n",
    "    elif i==7:\n",
    "        break\n",
    "    print(i)\n"
   ]
  },
  {
   "cell_type": "code",
   "execution_count": 16,
   "metadata": {},
   "outputs": [
    {
     "name": "stdout",
     "output_type": "stream",
     "text": [
      "S\no\nm\ne\n \nB\nl\na\nh\n \nS\nt\nr\ni\nn\ng\n"
     ]
    }
   ],
   "source": [
    "# Fast iteration\n",
    "myStr = 'Some Blah String'\n",
    "for i in myStr:\n",
    "    print(i)"
   ]
  },
  {
   "cell_type": "markdown",
   "metadata": {},
   "source": [
    "# Functions"
   ]
  },
  {
   "cell_type": "code",
   "execution_count": 12,
   "metadata": {},
   "outputs": [
    {
     "name": "stdout",
     "output_type": "stream",
     "text": [
      "80\n"
     ]
    }
   ],
   "source": [
    "# Functions in Python\n",
    "\n",
    "def product(x,y): \n",
    "    return x*y\n",
    "\n",
    "X = 20\n",
    "Y = 4\n",
    "print(product(X,Y))"
   ]
  },
  {
   "cell_type": "code",
   "execution_count": 10,
   "metadata": {},
   "outputs": [
    {
     "name": "stdout",
     "output_type": "stream",
     "text": [
      "10\n4\n5\n"
     ]
    }
   ],
   "source": [
    "def add(a = 2,b = 3):\n",
    "    return a+b\n",
    "\n",
    "print(add(6,4))\n",
    "print(add(1))\n",
    "print(add())"
   ]
  },
  {
   "cell_type": "code",
   "execution_count": 6,
   "metadata": {},
   "outputs": [
    {
     "name": "stdout",
     "output_type": "stream",
     "text": [
      "(10, 20)\n(10, 100, 2000)\n"
     ]
    }
   ],
   "source": [
    "def show(*args):\n",
    "    print(args)\n",
    "    \n",
    "show(10,20)\n",
    "show(10,100,2000)"
   ]
  },
  {
   "cell_type": "code",
   "execution_count": 3,
   "metadata": {},
   "outputs": [
    {
     "name": "stdout",
     "output_type": "stream",
     "text": [
      "8\n2\n"
     ]
    }
   ],
   "source": [
    "# multiple variables returned \n",
    "def add_sub(a,b):\n",
    "    return a+b,a-b\n",
    "\n",
    "a,b = add_sub(5,3)\n",
    "print(a)\n",
    "print(b)"
   ]
  },
  {
   "cell_type": "code",
   "execution_count": null,
   "metadata": {
    "collapsed": true
   },
   "outputs": [],
   "source": []
  }
 ],
 "metadata": {
  "kernelspec": {
   "display_name": "Python 3",
   "language": "python",
   "name": "python3"
  },
  "language_info": {
   "codemirror_mode": {
    "name": "ipython",
    "version": 2
   },
   "file_extension": ".py",
   "mimetype": "text/x-python",
   "name": "python",
   "nbconvert_exporter": "python",
   "pygments_lexer": "ipython2",
   "version": "2.7.15"
  }
 },
 "nbformat": 4,
 "nbformat_minor": 2
}
